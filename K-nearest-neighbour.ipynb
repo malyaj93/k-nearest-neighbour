{
 "cells": [
  {
   "cell_type": "code",
   "execution_count": 1,
   "metadata": {},
   "outputs": [],
   "source": [
    "import pandas as pd\n",
    "import numpy as np\n",
    "from sklearn.naive_bayes import GaussianNB\n",
    "from sklearn.neighbors import (NeighborhoodComponentsAnalysis,KNeighborsClassifier)\n",
    "from sklearn.svm import SVC\n",
    "from sklearn.pipeline import make_pipeline\n",
    "from sklearn.preprocessing import StandardScaler\n",
    "\n",
    "dataSub = pd.read_csv('bank-additional.csv', sep= ';')\n",
    "dataFull = pd.read_csv('bank-additional-full.csv', sep= ';')"
   ]
  },
  {
   "cell_type": "code",
   "execution_count": 2,
   "metadata": {},
   "outputs": [],
   "source": [
    "dataSub_dummies = pd.get_dummies(dataSub, drop_first=True)\n",
    "dataFull_dummies = pd.get_dummies(dataFull, drop_first=True)\n",
    "\n",
    "targetSub = pd.get_dummies(dataSub['y'], drop_first=True)\n",
    "targetFull = pd.get_dummies(dataFull['y'], drop_first=True)"
   ]
  },
  {
   "cell_type": "code",
   "execution_count": 3,
   "metadata": {},
   "outputs": [],
   "source": [
    "dataSub_dummies.drop('duration', inplace=True, axis=1)\n",
    "dataSub_dummies.drop('y_yes', inplace=True, axis=1)\n",
    "\n",
    "dataFull_dummies.drop('duration', inplace=True, axis=1)\n",
    "dataFull_dummies.drop('y_yes', inplace=True, axis=1)"
   ]
  },
  {
   "cell_type": "code",
   "execution_count": 4,
   "metadata": {},
   "outputs": [
    {
     "name": "stderr",
     "output_type": "stream",
     "text": [
      "C:\\Anaconda\\lib\\site-packages\\sklearn\\utils\\validation.py:72: DataConversionWarning: A column-vector y was passed when a 1d array was expected. Please change the shape of y to (n_samples, ), for example using ravel().\n",
      "  return f(**kwargs)\n",
      "<ipython-input-4-ce64e7052273>:8: DataConversionWarning: A column-vector y was passed when a 1d array was expected. Please change the shape of y to (n_samples, ), for example using ravel().\n",
      "  knn.fit(dataSub_dummies.to_numpy(), targetSub)\n",
      "C:\\Anaconda\\lib\\site-packages\\sklearn\\utils\\validation.py:72: DataConversionWarning: A column-vector y was passed when a 1d array was expected. Please change the shape of y to (n_samples, ), for example using ravel().\n",
      "  return f(**kwargs)\n"
     ]
    },
    {
     "name": "stdout",
     "output_type": "stream",
     "text": [
      "0.8548191308570041\n",
      "0.9237679048312697\n",
      "0.9184268026219956\n",
      "Gaussian accuracy --->  85.48191308570041\n",
      "KNN accuracy --->  92.37679048312697\n",
      "SVM accuracy --->  91.84268026219956\n"
     ]
    }
   ],
   "source": [
    "#creating objects\n",
    "gnb = GaussianNB()\n",
    "knn = KNeighborsClassifier(n_neighbors=3)\n",
    "svm = make_pipeline(StandardScaler(), SVC(gamma='auto'))\n",
    "\n",
    "#fitting each object\n",
    "gnb.fit(dataSub_dummies.to_numpy(), targetSub)\n",
    "knn.fit(dataSub_dummies.to_numpy(), targetSub)\n",
    "svm.fit(dataSub_dummies.to_numpy(), targetSub)\n",
    "\n",
    "#R^2 values\n",
    "gnb_score = gnb.score(dataSub_dummies.to_numpy(), targetSub)\n",
    "knn_score = knn.score(dataSub_dummies.to_numpy(), targetSub)\n",
    "svm_score = svm.score(dataSub_dummies.to_numpy(), targetSub)\n",
    "\n",
    "print(gnb_score)\n",
    "print(knn_score)\n",
    "print(svm_score)\n",
    "\n",
    "\n",
    "#accuracy is score * 100\n",
    "print('Gaussian accuracy ---> ', (gnb_score * 100))\n",
    "print('KNN accuracy ---> ', (knn_score * 100))\n",
    "print('SVM accuracy ---> ', (svm_score * 100))"
   ]
  },
  {
   "cell_type": "code",
   "execution_count": 9,
   "metadata": {},
   "outputs": [],
   "source": [
    "for i in dataSub['y']:\n",
    "    if i == 1:\n",
    "        print(i)"
   ]
  },
  {
   "cell_type": "code",
   "execution_count": 10,
   "metadata": {},
   "outputs": [
    {
     "name": "stdout",
     "output_type": "stream",
     "text": [
      "3668 451\n",
      "4119\n",
      "(4119, 1)\n",
      "(4119, 1)\n"
     ]
    }
   ],
   "source": [
    "zero = 0\n",
    "one = 0\n",
    "for i in targetSub['yes']:\n",
    "    if i == 0:\n",
    "        zero = zero+1\n",
    "    else:\n",
    "        one = one+1\n",
    "print(zero, one)\n",
    "\n",
    "print(len(targetSub))\n",
    "newtargetSub = targetSub\n",
    "for i in range(0,4119):\n",
    "    newtargetSub['yes'][i] = 0\n",
    "\n",
    "print(newtargetSub.shape)\n",
    "print(targetSub.shape)"
   ]
  },
  {
   "cell_type": "code",
   "execution_count": 11,
   "metadata": {
    "scrolled": true
   },
   "outputs": [
    {
     "name": "stderr",
     "output_type": "stream",
     "text": [
      "C:\\Anaconda\\lib\\site-packages\\sklearn\\utils\\validation.py:72: DataConversionWarning: A column-vector y was passed when a 1d array was expected. Please change the shape of y to (n_samples, ), for example using ravel().\n",
      "  return f(**kwargs)\n",
      "<ipython-input-11-23c440bb7490>:7: DataConversionWarning: A column-vector y was passed when a 1d array was expected. Please change the shape of y to (n_samples, ), for example using ravel().\n",
      "  knn.fit(dataSub_dummies.to_numpy(), newtargetSub)\n"
     ]
    },
    {
     "name": "stdout",
     "output_type": "stream",
     "text": [
      "1.0\n",
      "1.0\n",
      "Gaussian accuracy --->  100.0\n",
      "KNN accuracy --->  100.0\n"
     ]
    }
   ],
   "source": [
    "gnb = GaussianNB()\n",
    "knn = KNeighborsClassifier(n_neighbors=3)\n",
    "svm = make_pipeline(StandardScaler(), SVC(gamma='auto'))\n",
    "\n",
    "#fitting each object\n",
    "gnb.fit(dataSub_dummies.to_numpy(), newtargetSub)\n",
    "knn.fit(dataSub_dummies.to_numpy(), newtargetSub)\n",
    "#svm.fit(dataSub_dummies.to_numpy(), newtargetSub)\n",
    "\n",
    "#R^2 values\n",
    "gnb_score = gnb.score(dataSub_dummies.to_numpy(), newtargetSub)\n",
    "knn_score = knn.score(dataSub_dummies.to_numpy(), newtargetSub)\n",
    "#svm_score = svm.score(dataSub_dummies.to_numpy(), newtargetSub)\n",
    "\n",
    "print(gnb_score)\n",
    "print(knn_score)\n",
    "#print(svm_score)\n",
    "\n",
    "\n",
    "#accuracy is score * 100\n",
    "print('Gaussian accuracy ---> ', (gnb_score * 100))\n",
    "print('KNN accuracy ---> ', (knn_score * 100))\n",
    "#print('SVM accuracy ---> ', (svm_score * 100))"
   ]
  },
  {
   "cell_type": "code",
   "execution_count": 12,
   "metadata": {},
   "outputs": [
    {
     "data": {
      "text/plain": [
       "array([[4119]], dtype=int64)"
      ]
     },
     "execution_count": 12,
     "metadata": {},
     "output_type": "execute_result"
    }
   ],
   "source": [
    "from sklearn.metrics import confusion_matrix\n",
    "from sklearn.linear_model import LogisticRegression\n",
    "from sklearn.metrics import roc_auc_score\n",
    "\n",
    "zero_arr = np.zeros_like(newtargetSub)\n",
    "\n",
    "confusion_matrix(targetSub, newtargetSub)"
   ]
  },
  {
   "cell_type": "code",
   "execution_count": 33,
   "metadata": {},
   "outputs": [
    {
     "name": "stderr",
     "output_type": "stream",
     "text": [
      "C:\\Anaconda\\lib\\site-packages\\sklearn\\utils\\validation.py:72: DataConversionWarning: A column-vector y was passed when a 1d array was expected. Please change the shape of y to (n_samples, ), for example using ravel().\n",
      "  return f(**kwargs)\n"
     ]
    },
    {
     "ename": "ValueError",
     "evalue": "This solver needs samples of at least 2 classes in the data, but the data contains only one class: 0",
     "output_type": "error",
     "traceback": [
      "\u001b[1;31m---------------------------------------------------------------------------\u001b[0m",
      "\u001b[1;31mValueError\u001b[0m                                Traceback (most recent call last)",
      "\u001b[1;32m<ipython-input-33-4e49b015d00e>\u001b[0m in \u001b[0;36m<module>\u001b[1;34m\u001b[0m\n\u001b[0;32m      1\u001b[0m \u001b[0mX\u001b[0m \u001b[1;33m=\u001b[0m \u001b[0mdataSub_dummies\u001b[0m\u001b[1;33m.\u001b[0m\u001b[0mto_numpy\u001b[0m\u001b[1;33m(\u001b[0m\u001b[1;33m)\u001b[0m\u001b[1;33m\u001b[0m\u001b[1;33m\u001b[0m\u001b[0m\n\u001b[0;32m      2\u001b[0m \u001b[0my\u001b[0m \u001b[1;33m=\u001b[0m \u001b[0mnewtargetSub\u001b[0m\u001b[1;33m\u001b[0m\u001b[1;33m\u001b[0m\u001b[0m\n\u001b[1;32m----> 3\u001b[1;33m \u001b[0mclf\u001b[0m \u001b[1;33m=\u001b[0m \u001b[0mLogisticRegression\u001b[0m\u001b[1;33m(\u001b[0m\u001b[0msolver\u001b[0m\u001b[1;33m=\u001b[0m\u001b[1;34m\"liblinear\"\u001b[0m\u001b[1;33m,\u001b[0m \u001b[0mrandom_state\u001b[0m\u001b[1;33m=\u001b[0m\u001b[1;36m0\u001b[0m\u001b[1;33m)\u001b[0m\u001b[1;33m.\u001b[0m\u001b[0mfit\u001b[0m\u001b[1;33m(\u001b[0m\u001b[0mX\u001b[0m\u001b[1;33m,\u001b[0m\u001b[0my\u001b[0m\u001b[1;33m)\u001b[0m\u001b[1;33m\u001b[0m\u001b[1;33m\u001b[0m\u001b[0m\n\u001b[0m\u001b[0;32m      4\u001b[0m \u001b[1;33m\u001b[0m\u001b[0m\n\u001b[0;32m      5\u001b[0m \u001b[0mroc_auc_score\u001b[0m\u001b[1;33m(\u001b[0m\u001b[0my\u001b[0m\u001b[1;33m,\u001b[0m \u001b[0mclf\u001b[0m\u001b[1;33m.\u001b[0m\u001b[0mpredict_proba\u001b[0m\u001b[1;33m(\u001b[0m\u001b[0mX\u001b[0m\u001b[1;33m)\u001b[0m\u001b[1;33m[\u001b[0m\u001b[1;33m:\u001b[0m\u001b[1;33m,\u001b[0m \u001b[1;36m1\u001b[0m\u001b[1;33m]\u001b[0m\u001b[1;33m)\u001b[0m\u001b[1;33m\u001b[0m\u001b[1;33m\u001b[0m\u001b[0m\n",
      "\u001b[1;32mC:\\Anaconda\\lib\\site-packages\\sklearn\\linear_model\\_logistic.py\u001b[0m in \u001b[0;36mfit\u001b[1;34m(self, X, y, sample_weight)\u001b[0m\n\u001b[0;32m   1354\u001b[0m                               \u001b[1;34m\" 'solver' is set to 'liblinear'. Got 'n_jobs'\"\u001b[0m\u001b[1;33m\u001b[0m\u001b[1;33m\u001b[0m\u001b[0m\n\u001b[0;32m   1355\u001b[0m                               \" = {}.\".format(effective_n_jobs(self.n_jobs)))\n\u001b[1;32m-> 1356\u001b[1;33m             self.coef_, self.intercept_, n_iter_ = _fit_liblinear(\n\u001b[0m\u001b[0;32m   1357\u001b[0m                 \u001b[0mX\u001b[0m\u001b[1;33m,\u001b[0m \u001b[0my\u001b[0m\u001b[1;33m,\u001b[0m \u001b[0mself\u001b[0m\u001b[1;33m.\u001b[0m\u001b[0mC\u001b[0m\u001b[1;33m,\u001b[0m \u001b[0mself\u001b[0m\u001b[1;33m.\u001b[0m\u001b[0mfit_intercept\u001b[0m\u001b[1;33m,\u001b[0m \u001b[0mself\u001b[0m\u001b[1;33m.\u001b[0m\u001b[0mintercept_scaling\u001b[0m\u001b[1;33m,\u001b[0m\u001b[1;33m\u001b[0m\u001b[1;33m\u001b[0m\u001b[0m\n\u001b[0;32m   1358\u001b[0m                 \u001b[0mself\u001b[0m\u001b[1;33m.\u001b[0m\u001b[0mclass_weight\u001b[0m\u001b[1;33m,\u001b[0m \u001b[0mself\u001b[0m\u001b[1;33m.\u001b[0m\u001b[0mpenalty\u001b[0m\u001b[1;33m,\u001b[0m \u001b[0mself\u001b[0m\u001b[1;33m.\u001b[0m\u001b[0mdual\u001b[0m\u001b[1;33m,\u001b[0m \u001b[0mself\u001b[0m\u001b[1;33m.\u001b[0m\u001b[0mverbose\u001b[0m\u001b[1;33m,\u001b[0m\u001b[1;33m\u001b[0m\u001b[1;33m\u001b[0m\u001b[0m\n",
      "\u001b[1;32mC:\\Anaconda\\lib\\site-packages\\sklearn\\svm\\_base.py\u001b[0m in \u001b[0;36m_fit_liblinear\u001b[1;34m(X, y, C, fit_intercept, intercept_scaling, class_weight, penalty, dual, verbose, max_iter, tol, random_state, multi_class, loss, epsilon, sample_weight)\u001b[0m\n\u001b[0;32m    924\u001b[0m         \u001b[0mclasses_\u001b[0m \u001b[1;33m=\u001b[0m \u001b[0menc\u001b[0m\u001b[1;33m.\u001b[0m\u001b[0mclasses_\u001b[0m\u001b[1;33m\u001b[0m\u001b[1;33m\u001b[0m\u001b[0m\n\u001b[0;32m    925\u001b[0m         \u001b[1;32mif\u001b[0m \u001b[0mlen\u001b[0m\u001b[1;33m(\u001b[0m\u001b[0mclasses_\u001b[0m\u001b[1;33m)\u001b[0m \u001b[1;33m<\u001b[0m \u001b[1;36m2\u001b[0m\u001b[1;33m:\u001b[0m\u001b[1;33m\u001b[0m\u001b[1;33m\u001b[0m\u001b[0m\n\u001b[1;32m--> 926\u001b[1;33m             raise ValueError(\"This solver needs samples of at least 2 classes\"\n\u001b[0m\u001b[0;32m    927\u001b[0m                              \u001b[1;34m\" in the data, but the data contains only one\"\u001b[0m\u001b[1;33m\u001b[0m\u001b[1;33m\u001b[0m\u001b[0m\n\u001b[0;32m    928\u001b[0m                              \" class: %r\" % classes_[0])\n",
      "\u001b[1;31mValueError\u001b[0m: This solver needs samples of at least 2 classes in the data, but the data contains only one class: 0"
     ]
    }
   ],
   "source": [
    "X = dataSub_dummies.to_numpy()\n",
    "y = newtargetSub\n",
    "clf = LogisticRegression(solver=\"liblinear\", random_state=0).fit(X,y)\n",
    "\n",
    "roc_auc_score(y, clf.predict_proba(X)[:, 1])"
   ]
  },
  {
   "cell_type": "code",
   "execution_count": 15,
   "metadata": {},
   "outputs": [
    {
     "name": "stderr",
     "output_type": "stream",
     "text": [
      "C:\\Anaconda\\lib\\site-packages\\sklearn\\utils\\validation.py:72: DataConversionWarning: A column-vector y was passed when a 1d array was expected. Please change the shape of y to (n_samples, ), for example using ravel().\n",
      "  return f(**kwargs)\n",
      "<ipython-input-15-2e7ff9ff486a>:10: DataConversionWarning: A column-vector y was passed when a 1d array was expected. Please change the shape of y to (n_samples, ), for example using ravel().\n",
      "  knn_full.fit(dataFull_dummies.to_numpy(), targetFull)\n",
      "C:\\Anaconda\\lib\\site-packages\\sklearn\\utils\\validation.py:72: DataConversionWarning: A column-vector y was passed when a 1d array was expected. Please change the shape of y to (n_samples, ), for example using ravel().\n",
      "  return f(**kwargs)\n"
     ]
    },
    {
     "name": "stdout",
     "output_type": "stream",
     "text": [
      "Gaussian R^2 ---> 0.8680683694279887\n",
      "KNN R^2 ---> 0.9236185296688356\n",
      "SVM R^2 ---> 0.9089783432067593\n",
      "Gaussian accuracy --->  86.80683694279887\n",
      "KNN accuracy --->  92.36185296688356\n",
      "SVM accuracy --->  90.89783432067593\n"
     ]
    }
   ],
   "source": [
    "#Question 9\n",
    "\n",
    "#creating objects\n",
    "gnb_full = GaussianNB()\n",
    "knn_full = KNeighborsClassifier(n_neighbors=3)\n",
    "svm_full = make_pipeline(StandardScaler(), SVC(gamma='auto'))\n",
    "\n",
    "#fitting each object\n",
    "gnb_full.fit(dataFull_dummies.to_numpy(), targetFull)\n",
    "knn_full.fit(dataFull_dummies.to_numpy(), targetFull)\n",
    "svm_full.fit(dataFull_dummies.to_numpy(), targetFull)\n",
    "\n",
    "#R^2 values\n",
    "gnb_score_full = gnb_full.score(dataFull_dummies.to_numpy(), targetFull)\n",
    "knn_score_full = knn_full.score(dataFull_dummies.to_numpy(), targetFull)\n",
    "svm_score_full = svm_full.score(dataFull_dummies.to_numpy(), targetFull)\n",
    "\n",
    "print('Gaussian R^2 --->', gnb_score_full)\n",
    "print('KNN R^2 --->', knn_score_full)\n",
    "print('SVM R^2 --->', svm_score_full)\n",
    "\n",
    "\n",
    "#accuracy is score * 100\n",
    "print('Gaussian accuracy ---> ', (gnb_score_full * 100))\n",
    "print('KNN accuracy ---> ', (knn_score_full * 100))\n",
    "print('SVM accuracy ---> ', (svm_score_full * 100))"
   ]
  },
  {
   "cell_type": "code",
   "execution_count": null,
   "metadata": {},
   "outputs": [],
   "source": []
  }
 ],
 "metadata": {
  "kernelspec": {
   "display_name": "Python 3",
   "language": "python",
   "name": "python3"
  },
  "language_info": {
   "codemirror_mode": {
    "name": "ipython",
    "version": 3
   },
   "file_extension": ".py",
   "mimetype": "text/x-python",
   "name": "python",
   "nbconvert_exporter": "python",
   "pygments_lexer": "ipython3",
   "version": "3.8.5"
  }
 },
 "nbformat": 4,
 "nbformat_minor": 4
}
